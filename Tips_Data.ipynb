{
 "cells": [
  {
   "cell_type": "markdown",
   "id": "26b95bbc-79a4-40fe-bafa-3947f091e5c6",
   "metadata": {},
   "source": [
    "# Open Source data for Nepal - Climate change\n",
    "1. https://climateknowledgeportal.worldbank.org/\n",
    "2. https://power.larc.nasa.gov/data-access-viewer/\n",
    "3. https://cds.climate.copernicus.eu/\n",
    "4. https://www.climateengine.org/\n",
    "5. https://climexp.knmi.nl/start.cgi\n",
    "6. https://rds.icimod.org/DataExplorer/\n",
    "7. https://openaq.org/\n",
    "8. https://www.climatologylab.org/terraclimate.html\n",
    "9. "
   ]
  },
  {
   "cell_type": "code",
   "execution_count": null,
   "id": "40f90fb0-a7eb-4fff-8135-44099e0a07e5",
   "metadata": {},
   "outputs": [],
   "source": []
  }
 ],
 "metadata": {
  "kernelspec": {
   "display_name": "Python 3 (ipykernel)",
   "language": "python",
   "name": "python3"
  },
  "language_info": {
   "codemirror_mode": {
    "name": "ipython",
    "version": 3
   },
   "file_extension": ".py",
   "mimetype": "text/x-python",
   "name": "python",
   "nbconvert_exporter": "python",
   "pygments_lexer": "ipython3",
   "version": "3.12.7"
  }
 },
 "nbformat": 4,
 "nbformat_minor": 5
}
